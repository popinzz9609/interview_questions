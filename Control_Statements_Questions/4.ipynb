{
 "cells": [
  {
   "cell_type": "markdown",
   "metadata": {},
   "source": [
    "  Use nested loops to create the following:\n",
    "                # # # # # # # #\n",
    "\n",
    "                # # # # # # # #\n",
    "\n",
    "                # # # # # # # #\n",
    "\n",
    "                # # # # # # # #\n",
    "\n",
    "                # # # # # # # #\n",
    "\n",
    "                # # # # # # # #\n",
    "\n",
    "                # # # # # # # #\n",
    "\n",
    "                # # # # # # # #\n"
   ]
  },
  {
   "cell_type": "code",
   "execution_count": 1,
   "metadata": {},
   "outputs": [
    {
     "name": "stdout",
     "output_type": "stream",
     "text": [
      "# # # # # # # # \n",
      "# # # # # # # # \n",
      "# # # # # # # # \n",
      "# # # # # # # # \n",
      "# # # # # # # # \n",
      "# # # # # # # # \n",
      "# # # # # # # # \n",
      "# # # # # # # # \n"
     ]
    }
   ],
   "source": [
    "# Define the number of rows and columns for the pattern\n",
    "num_rows = 8  # Number of rows\n",
    "num_columns = 8  # Number of columns\n",
    "\n",
    "# Nested loops to create the pattern\n",
    "for i in range(num_rows):  # Outer loop for rows\n",
    "    for j in range(num_columns):  # Inner loop for columns\n",
    "        print('#', end=' ')  # Print '#' with space as end character to avoid new line\n",
    "    print()  # Move to the next line after printing a row of '#'\n"
   ]
  }
 ],
 "metadata": {
  "kernelspec": {
   "display_name": "base",
   "language": "python",
   "name": "python3"
  },
  "language_info": {
   "codemirror_mode": {
    "name": "ipython",
    "version": 3
   },
   "file_extension": ".py",
   "mimetype": "text/x-python",
   "name": "python",
   "nbconvert_exporter": "python",
   "pygments_lexer": "ipython3",
   "version": "3.11.5"
  }
 },
 "nbformat": 4,
 "nbformat_minor": 2
}
