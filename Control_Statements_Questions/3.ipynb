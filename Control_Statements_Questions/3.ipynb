{
 "cells": [
  {
   "cell_type": "markdown",
   "metadata": {},
   "source": [
    "Write a loop that makes seven calls to print(), so we get on the output the following triangle:\n",
    "                #\n",
    "\n",
    "                ##\n",
    "\n",
    "                ###\n",
    "\n",
    "                ####\n",
    "\n",
    "                #####\n",
    "\n",
    "                ######\n",
    "\n",
    "                #######\n"
   ]
  },
  {
   "cell_type": "code",
   "execution_count": 3,
   "metadata": {},
   "outputs": [
    {
     "name": "stdout",
     "output_type": "stream",
     "text": [
      "#\n",
      "##\n",
      "###\n",
      "####\n",
      "#####\n",
      "######\n",
      "#######\n"
     ]
    }
   ],
   "source": [
    "# Loop to print a triangle pattern using #\n",
    "for i in range(1, 8):  # Loop from 1 to 7 (inclusive)\n",
    "    print('#' * i)  # Print '#' repeated i times\n"
   ]
  }
 ],
 "metadata": {
  "kernelspec": {
   "display_name": "base",
   "language": "python",
   "name": "python3"
  },
  "language_info": {
   "codemirror_mode": {
    "name": "ipython",
    "version": 3
   },
   "file_extension": ".py",
   "mimetype": "text/x-python",
   "name": "python",
   "nbconvert_exporter": "python",
   "pygments_lexer": "ipython3",
   "version": "3.11.5"
  }
 },
 "nbformat": 4,
 "nbformat_minor": 2
}
