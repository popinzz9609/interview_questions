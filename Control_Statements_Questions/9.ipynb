{
 "cells": [
  {
   "cell_type": "markdown",
   "metadata": {},
   "source": [
    "Use for loop to iterate from 0 to 100 and print the sum of all numbers.\n",
    "                output: The sum of all numbers is 5050.\n"
   ]
  },
  {
   "cell_type": "code",
   "execution_count": 1,
   "metadata": {},
   "outputs": [
    {
     "name": "stdout",
     "output_type": "stream",
     "text": [
      "The sum of all numbers is 5050.\n"
     ]
    }
   ],
   "source": [
    "# Initialize a variable to store the sum of numbers\n",
    "total_sum = 0\n",
    "\n",
    "# Iterate from 0 to 100 and calculate the sum of all numbers\n",
    "for num in range(101):  # Range from 0 to 100 (inclusive)\n",
    "    total_sum += num  # Add each number to the total sum\n",
    "\n",
    "# Print the sum of all numbers\n",
    "print(f\"The sum of all numbers is {total_sum}.\")\n"
   ]
  }
 ],
 "metadata": {
  "kernelspec": {
   "display_name": "base",
   "language": "python",
   "name": "python3"
  },
  "language_info": {
   "codemirror_mode": {
    "name": "ipython",
    "version": 3
   },
   "file_extension": ".py",
   "mimetype": "text/x-python",
   "name": "python",
   "nbconvert_exporter": "python",
   "pygments_lexer": "ipython3",
   "version": "3.11.5"
  }
 },
 "nbformat": 4,
 "nbformat_minor": 2
}
