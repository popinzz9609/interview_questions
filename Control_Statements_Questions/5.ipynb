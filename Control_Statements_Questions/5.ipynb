{
 "cells": [
  {
   "cell_type": "markdown",
   "metadata": {},
   "source": [
    "  Print the following pattern:\n",
    "                0 x 0 = 0\n",
    "\n",
    "                1 x 1 = 1\n",
    "\n",
    "                2 x 2 = 4\n",
    "\n",
    "                3 x 3 = 9\n",
    "\n",
    "                4 x 4 = 16\n",
    "\n",
    "                5 x 5 = 25\n",
    "\n",
    "                6 x 6 = 36\n",
    "\n",
    "                7 x 7 = 49\n",
    "\n",
    "                8 x 8 = 64\n",
    "\n",
    "                9 x 9 = 81\n",
    "\n",
    "                10 x 10= 100\n"
   ]
  },
  {
   "cell_type": "code",
   "execution_count": 1,
   "metadata": {},
   "outputs": [
    {
     "name": "stdout",
     "output_type": "stream",
     "text": [
      "0 x 0 = 0\n",
      "1 x 1 = 1\n",
      "2 x 2 = 4\n",
      "3 x 3 = 9\n",
      "4 x 4 = 16\n",
      "5 x 5 = 25\n",
      "6 x 6 = 36\n",
      "7 x 7 = 49\n",
      "8 x 8 = 64\n",
      "9 x 9 = 81\n",
      "10 x 10 = 100\n"
     ]
    }
   ],
   "source": [
    "# Print the pattern of squares from 0 to 10\n",
    "for n in range(11):  # Iterate from 0 to 10\n",
    "    square = n * n  # Calculate the square of n\n",
    "    print(f\"{n} x {n} = {square}\")\n"
   ]
  }
 ],
 "metadata": {
  "kernelspec": {
   "display_name": "base",
   "language": "python",
   "name": "python3"
  },
  "language_info": {
   "codemirror_mode": {
    "name": "ipython",
    "version": 3
   },
   "file_extension": ".py",
   "mimetype": "text/x-python",
   "name": "python",
   "nbconvert_exporter": "python",
   "pygments_lexer": "ipython3",
   "version": "3.11.5"
  }
 },
 "nbformat": 4,
 "nbformat_minor": 2
}
