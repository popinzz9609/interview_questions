{
 "cells": [
  {
   "cell_type": "markdown",
   "metadata": {},
   "source": [
    "Use for loop to iterate from 0 to 100 and print the sum of all evens and the sum of all odds.\n"
   ]
  },
  {
   "cell_type": "code",
   "execution_count": 1,
   "metadata": {},
   "outputs": [
    {
     "name": "stdout",
     "output_type": "stream",
     "text": [
      "The sum of all even numbers is 2550.\n",
      "The sum of all odd numbers is 2500.\n"
     ]
    }
   ],
   "source": [
    "# Initialize variables to store the sum of evens and odds\n",
    "sum_even = 0\n",
    "sum_odd = 0\n",
    "\n",
    "# Iterate from 0 to 100 and calculate the sum of evens and odds\n",
    "for num in range(101):  # Range from 0 to 100 (inclusive)\n",
    "    if num % 2 == 0:  # Check if the number is even\n",
    "        sum_even += num  # Add even number to the sum of evens\n",
    "    else:\n",
    "        sum_odd += num  # Add odd number to the sum of odds\n",
    "\n",
    "# Print the sum of all evens and the sum of all odds\n",
    "print(f\"The sum of all even numbers is {sum_even}.\")\n",
    "print(f\"The sum of all odd numbers is {sum_odd}.\")\n"
   ]
  }
 ],
 "metadata": {
  "kernelspec": {
   "display_name": "base",
   "language": "python",
   "name": "python3"
  },
  "language_info": {
   "codemirror_mode": {
    "name": "ipython",
    "version": 3
   },
   "file_extension": ".py",
   "mimetype": "text/x-python",
   "name": "python",
   "nbconvert_exporter": "python",
   "pygments_lexer": "ipython3",
   "version": "3.11.5"
  }
 },
 "nbformat": 4,
 "nbformat_minor": 2
}
