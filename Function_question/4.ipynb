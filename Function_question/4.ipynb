{
 "cells": [
  {
   "cell_type": "markdown",
   "metadata": {},
   "source": [
    "Write a Python function called count_vowels that takes a string as input and returns the count of vowels (a, e, i, o, u) in the string.\n"
   ]
  },
  {
   "cell_type": "code",
   "execution_count": 2,
   "metadata": {},
   "outputs": [
    {
     "name": "stdout",
     "output_type": "stream",
     "text": [
      "The number of vowels in 'Hello, world!.' is: 3\n"
     ]
    }
   ],
   "source": [
    "def count_vowels(input_string):\n",
    "    # Define a set of vowels\n",
    "    vowels = {'a', 'e', 'i', 'o', 'u'}\n",
    "    \n",
    "    # Initialize a variable to count vowels\n",
    "    vowel_count = 0\n",
    "    \n",
    "    # Iterate through each character in the input string\n",
    "    for char in input_string.lower():  # Convert the character to lowercase for case-insensitive comparison\n",
    "        if char in vowels:  # Check if the character is a vowel\n",
    "            vowel_count += 1  # Increment the vowel count\n",
    "    \n",
    "    return vowel_count\n",
    "\n",
    "# Example usage:\n",
    "input_str = \"Hello, world!.\"\n",
    "num_vowels = count_vowels(input_str)\n",
    "print(f\"The number of vowels in '{input_str}' is: {num_vowels}\")\n"
   ]
  }
 ],
 "metadata": {
  "kernelspec": {
   "display_name": "base",
   "language": "python",
   "name": "python3"
  },
  "language_info": {
   "codemirror_mode": {
    "name": "ipython",
    "version": 3
   },
   "file_extension": ".py",
   "mimetype": "text/x-python",
   "name": "python",
   "nbconvert_exporter": "python",
   "pygments_lexer": "ipython3",
   "version": "3.11.5"
  }
 },
 "nbformat": 4,
 "nbformat_minor": 2
}
