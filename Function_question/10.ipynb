{
 "cells": [
  {
   "cell_type": "markdown",
   "metadata": {},
   "source": [
    "Write a Python function called binary_search that takes a sorted list and a target value as input and returns the index of the target value in the list, or -1 if it is not found."
   ]
  },
  {
   "cell_type": "code",
   "execution_count": 3,
   "metadata": {},
   "outputs": [
    {
     "name": "stdout",
     "output_type": "stream",
     "text": [
      "Target 11 found at index: 5\n"
     ]
    }
   ],
   "source": [
    "def binary_search(sorted_list, target):\n",
    "    left = 0  # Initialize the left pointer\n",
    "    right = len(sorted_list) - 1  # Initialize the right pointer\n",
    "\n",
    "    while left <= right:\n",
    "        mid = (left + right) // 2  # Calculate the middle index\n",
    "\n",
    "        if sorted_list[mid] == target:\n",
    "            return mid  # Return the index if target is found\n",
    "        elif sorted_list[mid] < target:\n",
    "            left = mid + 1  # Search the right half\n",
    "        else:\n",
    "            right = mid - 1  # Search the left half\n",
    "\n",
    "    return -1  # Return -1 if target is not found\n",
    "\n",
    "# Example usage:\n",
    "sorted_list = [1, 3, 5, 7, 9, 11, 13, 15]\n",
    "target = 11\n",
    "result_index = binary_search(sorted_list, target)\n",
    "\n",
    "if result_index != -1:\n",
    "    print(f\"Target {target} found at index: {result_index}\")\n",
    "else:\n",
    "    print(f\"Target {target} not found in the list.\")\n"
   ]
  }
 ],
 "metadata": {
  "kernelspec": {
   "display_name": "base",
   "language": "python",
   "name": "python3"
  },
  "language_info": {
   "codemirror_mode": {
    "name": "ipython",
    "version": 3
   },
   "file_extension": ".py",
   "mimetype": "text/x-python",
   "name": "python",
   "nbconvert_exporter": "python",
   "pygments_lexer": "ipython3",
   "version": "3.11.5"
  }
 },
 "nbformat": 4,
 "nbformat_minor": 2
}
