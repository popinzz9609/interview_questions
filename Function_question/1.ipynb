{
 "cells": [
  {
   "cell_type": "markdown",
   "metadata": {},
   "source": [
    "Write a Python function called calculate_average that takes a list of numbers as input and returns their average.\n",
    "\n"
   ]
  },
  {
   "cell_type": "code",
   "execution_count": 1,
   "metadata": {},
   "outputs": [
    {
     "name": "stdout",
     "output_type": "stream",
     "text": [
      "The average of numbers [5, 10, 15, 20, 25] is: 15.0\n"
     ]
    }
   ],
   "source": [
    "def calculate_average(numbers):\n",
    "    # Calculate the sum of numbers in the list\n",
    "    total_sum = sum(numbers)\n",
    "    \n",
    "    # Determine the total count of numbers in the list\n",
    "    count = len(numbers)\n",
    "    \n",
    "    # Calculate the average\n",
    "    if count > 0:\n",
    "        average = total_sum / count\n",
    "        return average\n",
    "    else:\n",
    "        # Handle the case where the list is empty (avoid division by zero)\n",
    "        return 0  # Return 0 as the average if the list is empty\n",
    "\n",
    "# Example usage:\n",
    "numbers_list = [5, 10, 15, 20, 25]\n",
    "result = calculate_average(numbers_list)\n",
    "print(f\"The average of numbers {numbers_list} is: {result}\")\n"
   ]
  }
 ],
 "metadata": {
  "kernelspec": {
   "display_name": "base",
   "language": "python",
   "name": "python3"
  },
  "language_info": {
   "codemirror_mode": {
    "name": "ipython",
    "version": 3
   },
   "file_extension": ".py",
   "mimetype": "text/x-python",
   "name": "python",
   "nbconvert_exporter": "python",
   "pygments_lexer": "ipython3",
   "version": "3.11.5"
  }
 },
 "nbformat": 4,
 "nbformat_minor": 2
}
