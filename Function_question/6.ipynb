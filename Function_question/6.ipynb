{
 "cells": [
  {
   "cell_type": "markdown",
   "metadata": {},
   "source": [
    "Write a Python function called remove_duplicates that takes a list as input and returns a new list with duplicates removed.\n"
   ]
  },
  {
   "cell_type": "code",
   "execution_count": 1,
   "metadata": {},
   "outputs": [
    {
     "name": "stdout",
     "output_type": "stream",
     "text": [
      "The list after removing duplicates is: [1, 2, 3, 4, 5, 6]\n"
     ]
    }
   ],
   "source": [
    "def remove_duplicates(input_list):\n",
    "    # Create an empty set to store unique elements\n",
    "    unique_elements = []\n",
    "    \n",
    "    # Iterate through each element in the input list\n",
    "    for item in input_list:\n",
    "        # Add the element to the unique_elements list if it's not already present\n",
    "        if item not in unique_elements:\n",
    "            unique_elements.append(item)\n",
    "    \n",
    "    return unique_elements\n",
    "\n",
    "# Example usage:\n",
    "input_list = [1, 2, 3, 2, 4, 1, 5, 6, 3]\n",
    "result = remove_duplicates(input_list)\n",
    "print(f\"The list after removing duplicates is: {result}\")\n"
   ]
  }
 ],
 "metadata": {
  "kernelspec": {
   "display_name": "base",
   "language": "python",
   "name": "python3"
  },
  "language_info": {
   "codemirror_mode": {
    "name": "ipython",
    "version": 3
   },
   "file_extension": ".py",
   "mimetype": "text/x-python",
   "name": "python",
   "nbconvert_exporter": "python",
   "pygments_lexer": "ipython3",
   "version": "3.11.5"
  }
 },
 "nbformat": 4,
 "nbformat_minor": 2
}
