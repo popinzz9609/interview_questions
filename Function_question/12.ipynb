{
 "cells": [
  {
   "cell_type": "markdown",
   "metadata": {},
   "source": [
    "Write a Python function called find_missing_number that takes a list of consecutive numbers (with one number missing) as input and returns the missing number.\n"
   ]
  },
  {
   "cell_type": "code",
   "execution_count": 1,
   "metadata": {},
   "outputs": [
    {
     "name": "stdout",
     "output_type": "stream",
     "text": [
      "The missing number in the list [1, 2, 3, 5, 6, 7, 8] is: 4\n"
     ]
    }
   ],
   "source": [
    "def find_missing_number(numbers):\n",
    "    # Calculate the length of the list (including the missing number)\n",
    "    n = len(numbers) + 1\n",
    "    \n",
    "    # Calculate the expected sum of consecutive numbers from 1 to n\n",
    "    expected_sum = n * (n + 1) // 2\n",
    "    \n",
    "    # Calculate the actual sum of numbers in the input list\n",
    "    actual_sum = sum(numbers)\n",
    "    \n",
    "    # The missing number is the difference between the expected sum and the actual sum\n",
    "    missing_number = expected_sum - actual_sum\n",
    "    \n",
    "    return missing_number\n",
    "\n",
    "# Example usage:\n",
    "consecutive_numbers = [1, 2, 3, 5, 6, 7, 8]\n",
    "missing_number = find_missing_number(consecutive_numbers)\n",
    "print(f\"The missing number in the list {consecutive_numbers} is: {missing_number}\")\n"
   ]
  }
 ],
 "metadata": {
  "kernelspec": {
   "display_name": "base",
   "language": "python",
   "name": "python3"
  },
  "language_info": {
   "codemirror_mode": {
    "name": "ipython",
    "version": 3
   },
   "file_extension": ".py",
   "mimetype": "text/x-python",
   "name": "python",
   "nbconvert_exporter": "python",
   "pygments_lexer": "ipython3",
   "version": "3.11.5"
  }
 },
 "nbformat": 4,
 "nbformat_minor": 2
}
