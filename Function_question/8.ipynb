{
 "cells": [
  {
   "cell_type": "markdown",
   "metadata": {},
   "source": [
    "Write a Python function called is_palindrome that takes a string as input and returns True if it is a palindrome (reads the same forwards and backwards), False otherwise."
   ]
  },
  {
   "cell_type": "code",
   "execution_count": 2,
   "metadata": {},
   "outputs": [
    {
     "name": "stdout",
     "output_type": "stream",
     "text": [
      "Is 'radar' a palindrome? True\n",
      "Is 'Hello' a palindrome? False\n"
     ]
    }
   ],
   "source": [
    "def is_palindrome(input_string):\n",
    "    # Remove spaces and convert the input string to lowercase for case-insensitive comparison\n",
    "    normalized_string = input_string.replace(\" \", \"\").lower()\n",
    "    \n",
    "    # Check if the normalized string is equal to its reverse\n",
    "    return normalized_string == normalized_string[::-1]\n",
    "\n",
    "# Example usage:\n",
    "string1 = \"radar\"\n",
    "string2 = \"Hello\"\n",
    "\n",
    "# Test palindrome strings\n",
    "print(f\"Is '{string1}' a palindrome? {is_palindrome(string1)}\")  # True\n",
    "print(f\"Is '{string2}' a palindrome? {is_palindrome(string2)}\")  # False\n"
   ]
  }
 ],
 "metadata": {
  "kernelspec": {
   "display_name": "base",
   "language": "python",
   "name": "python3"
  },
  "language_info": {
   "codemirror_mode": {
    "name": "ipython",
    "version": 3
   },
   "file_extension": ".py",
   "mimetype": "text/x-python",
   "name": "python",
   "nbconvert_exporter": "python",
   "pygments_lexer": "ipython3",
   "version": "3.11.5"
  }
 },
 "nbformat": 4,
 "nbformat_minor": 2
}
