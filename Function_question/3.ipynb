{
 "cells": [
  {
   "cell_type": "markdown",
   "metadata": {},
   "source": [
    "Write a Python function called reverse_string that takes a string as input and returns the reverse of the string.\n"
   ]
  },
  {
   "cell_type": "code",
   "execution_count": 1,
   "metadata": {},
   "outputs": [
    {
     "name": "stdout",
     "output_type": "stream",
     "text": [
      "The reversed string of 'Hello, world!' is: '!dlrow ,olleH'\n"
     ]
    }
   ],
   "source": [
    "def reverse_string(input_string):\n",
    "    # Use string slicing to reverse the input string\n",
    "    reversed_string = input_string[::-1]\n",
    "    \n",
    "    return reversed_string\n",
    "\n",
    "# Example usage:\n",
    "input_str = \"Hello, world!\"\n",
    "reversed_str = reverse_string(input_str)\n",
    "print(f\"The reversed string of '{input_str}' is: '{reversed_str}'\")\n"
   ]
  }
 ],
 "metadata": {
  "kernelspec": {
   "display_name": "base",
   "language": "python",
   "name": "python3"
  },
  "language_info": {
   "codemirror_mode": {
    "name": "ipython",
    "version": 3
   },
   "file_extension": ".py",
   "mimetype": "text/x-python",
   "name": "python",
   "nbconvert_exporter": "python",
   "pygments_lexer": "ipython3",
   "version": "3.11.5"
  }
 },
 "nbformat": 4,
 "nbformat_minor": 2
}
