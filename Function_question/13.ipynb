{
 "cells": [
  {
   "cell_type": "markdown",
   "metadata": {},
   "source": [
    "Write a Python function called find_longest_word that takes a sentence as input and returns the longest word in the sentence."
   ]
  },
  {
   "cell_type": "code",
   "execution_count": 1,
   "metadata": {},
   "outputs": [
    {
     "name": "stdout",
     "output_type": "stream",
     "text": [
      "The longest word in the sentence is: sentence\n"
     ]
    }
   ],
   "source": [
    "def find_longest_word(sentence):\n",
    "    # Split the sentence into words\n",
    "    words = sentence.split()\n",
    "\n",
    "    # Initialize variables to track the longest word and its length\n",
    "    longest_word = \"\"\n",
    "    max_length = 0\n",
    "\n",
    "    # Iterate over each word in the list of words\n",
    "    for word in words:\n",
    "        # Check the length of the current word\n",
    "        if len(word) > max_length:\n",
    "            longest_word = word\n",
    "            max_length = len(word)\n",
    "\n",
    "    return longest_word\n",
    "\n",
    "# Example usage:\n",
    "input_sentence = \"This is a sample sentence to find the longest word\"\n",
    "longest_word = find_longest_word(input_sentence)\n",
    "print(f\"The longest word in the sentence is: {longest_word}\")\n"
   ]
  }
 ],
 "metadata": {
  "kernelspec": {
   "display_name": "base",
   "language": "python",
   "name": "python3"
  },
  "language_info": {
   "codemirror_mode": {
    "name": "ipython",
    "version": 3
   },
   "file_extension": ".py",
   "mimetype": "text/x-python",
   "name": "python",
   "nbconvert_exporter": "python",
   "pygments_lexer": "ipython3",
   "version": "3.11.5"
  }
 },
 "nbformat": 4,
 "nbformat_minor": 2
}
