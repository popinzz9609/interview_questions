{
 "cells": [
  {
   "cell_type": "markdown",
   "metadata": {},
   "source": [
    "Write a Python function called factorial that takes a positive integer as input and returns its factorial."
   ]
  },
  {
   "cell_type": "code",
   "execution_count": 5,
   "metadata": {},
   "outputs": [
    {
     "name": "stdout",
     "output_type": "stream",
     "text": [
      "The factorial of 5 is: 120\n"
     ]
    }
   ],
   "source": [
    "def factorial(n):\n",
    "    # Check if the input is a positive integer\n",
    "    if not isinstance(n, int) or n < 0:\n",
    "        raise ValueError(\"Input must be a positive integer\")\n",
    "\n",
    "    # Initialize the factorial value\n",
    "    result = 1\n",
    "    \n",
    "    # Compute the factorial iteratively\n",
    "    for i in range(1, n + 1):\n",
    "        result *= i\n",
    "    \n",
    "    return result\n",
    "\n",
    "# Example usage:\n",
    "number = 5\n",
    "fact = factorial(number)\n",
    "print(f\"The factorial of {number} is: {fact}\")\n"
   ]
  }
 ],
 "metadata": {
  "kernelspec": {
   "display_name": "base",
   "language": "python",
   "name": "python3"
  },
  "language_info": {
   "codemirror_mode": {
    "name": "ipython",
    "version": 3
   },
   "file_extension": ".py",
   "mimetype": "text/x-python",
   "name": "python",
   "nbconvert_exporter": "python",
   "pygments_lexer": "ipython3",
   "version": "3.11.5"
  }
 },
 "nbformat": 4,
 "nbformat_minor": 2
}
