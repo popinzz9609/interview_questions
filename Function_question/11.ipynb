{
 "cells": [
  {
   "cell_type": "markdown",
   "metadata": {},
   "source": [
    " Write a Python function called capitalize_words that takes a sentence as input and returns the sentence with the first letter of each word capitalized."
   ]
  },
  {
   "cell_type": "code",
   "execution_count": 1,
   "metadata": {},
   "outputs": [
    {
     "name": "stdout",
     "output_type": "stream",
     "text": [
      "Original sentence: hello world! this is a test sentence.\n",
      "Capitalized sentence: Hello World! This Is A Test Sentence.\n"
     ]
    }
   ],
   "source": [
    "def capitalize_words(sentence):\n",
    "    # Split the sentence into words\n",
    "    words = sentence.split()\n",
    "\n",
    "    # Capitalize the first letter of each word and join them back into a new sentence\n",
    "    capitalized_sentence = ' '.join(word.capitalize() for word in words)\n",
    "\n",
    "    return capitalized_sentence\n",
    "\n",
    "# Example usage:\n",
    "input_sentence = \"hello world! this is a test sentence.\"\n",
    "result_sentence = capitalize_words(input_sentence)\n",
    "print(f\"Original sentence: {input_sentence}\")\n",
    "print(f\"Capitalized sentence: {result_sentence}\")\n"
   ]
  }
 ],
 "metadata": {
  "kernelspec": {
   "display_name": "base",
   "language": "python",
   "name": "python3"
  },
  "language_info": {
   "codemirror_mode": {
    "name": "ipython",
    "version": 3
   },
   "file_extension": ".py",
   "mimetype": "text/x-python",
   "name": "python",
   "nbconvert_exporter": "python",
   "pygments_lexer": "ipython3",
   "version": "3.11.5"
  }
 },
 "nbformat": 4,
 "nbformat_minor": 2
}
