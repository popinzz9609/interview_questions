{
 "cells": [
  {
   "cell_type": "markdown",
   "metadata": {},
   "source": [
    "Write a Python function called find_largest that takes a list of numbers as input and returns the largest number in the list.\n"
   ]
  },
  {
   "cell_type": "code",
   "execution_count": 1,
   "metadata": {},
   "outputs": [
    {
     "name": "stdout",
     "output_type": "stream",
     "text": [
      "The largest number in the list [15, 6, 27, 8, 12, 35] is: 35\n"
     ]
    }
   ],
   "source": [
    "def find_largest(numbers):\n",
    "    # Check if the list is empty\n",
    "    if not numbers:\n",
    "        return None  # Return None if the list is empty\n",
    "    \n",
    "    # Find the largest number in the list using the max() function\n",
    "    largest_number = max(numbers)\n",
    "    \n",
    "    return largest_number\n",
    "\n",
    "# Example usage:\n",
    "numbers_list = [15, 6, 27, 8, 12, 35]\n",
    "largest = find_largest(numbers_list)\n",
    "print(f\"The largest number in the list {numbers_list} is: {largest}\")\n"
   ]
  }
 ],
 "metadata": {
  "kernelspec": {
   "display_name": "base",
   "language": "python",
   "name": "python3"
  },
  "language_info": {
   "codemirror_mode": {
    "name": "ipython",
    "version": 3
   },
   "file_extension": ".py",
   "mimetype": "text/x-python",
   "name": "python",
   "nbconvert_exporter": "python",
   "pygments_lexer": "ipython3",
   "version": "3.11.5"
  }
 },
 "nbformat": 4,
 "nbformat_minor": 2
}
