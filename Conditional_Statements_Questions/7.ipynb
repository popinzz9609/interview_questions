{
 "cells": [
  {
   "cell_type": "markdown",
   "metadata": {},
   "source": [
    "Here we have a person dictionary. Feel free to modify it!\n",
    "                    person={\n",
    "\n",
    "                    'first_name': 'Asabeneh',\n",
    "\n",
    "                    'last_name': 'Yetayeh',\n",
    "\n",
    "                    'age': 250,\n",
    "\n",
    "                    'country': 'Finland',\n",
    "\n",
    "                    'is_marred': True,\n",
    "\n",
    "                    'skills': ['JavaScript', 'React', 'Node', 'MongoDB', 'Python'],\n",
    "\n",
    "                    'address': {\n",
    "\n",
    "                    'street': 'Space street',\n",
    "\n",
    "                    'zipcode': '02210'\n",
    "                    }\n",
    "                    }\n",
    "                * Check if the person dictionary has skills key, if so print out the middle skill in the skills list.\n",
    "\n",
    "                * Check if the person dictionary has skills key, if so check if the person has 'Python' skill and print out the result.\n",
    "\n",
    "                * If a person skills has only JavaScript and React, print('He is a front end developer'), if the person skills has Node, Python, MongoDB, print('He is a backend developer'), if the person skills has React, Node and MongoDB, Print('He is a fullstack developer'), else print('unknown title') - for more accurate results more conditions can be nested!\n"
   ]
  },
  {
   "cell_type": "code",
   "execution_count": 4,
   "metadata": {},
   "outputs": [
    {
     "name": "stdout",
     "output_type": "stream",
     "text": [
      "The middle skill in the skills list is: Node\n",
      "The person has Python skill.\n",
      "He is a backend developer\n"
     ]
    }
   ],
   "source": [
    "def main():\n",
    "    # Define the person dictionary\n",
    "    person = {\n",
    "        'first_name': 'Asabeneh',\n",
    "        'last_name': 'Yetayeh',\n",
    "        'age': 250,\n",
    "        'country': 'Finland',\n",
    "        'is_married': True,\n",
    "        'skills': ['JavaScript', 'React', 'Node', 'MongoDB', 'Python'],\n",
    "        'address': {\n",
    "            'street': 'Space street',\n",
    "            'zipcode': '02210'\n",
    "        }\n",
    "    }\n",
    "    \n",
    "    # Task 1: Check if the person dictionary has 'skills' key\n",
    "    if 'skills' in person:\n",
    "        skills_list = person['skills']\n",
    "        # Check if the skills list has an odd number of elements\n",
    "        if len(skills_list) % 2 != 0:\n",
    "            middle_index = len(skills_list) // 2\n",
    "            middle_skill = skills_list[middle_index]\n",
    "            print(f\"The middle skill in the skills list is: {middle_skill}\")\n",
    "    \n",
    "    # Task 2: Check if the person dictionary has 'skills' key and if 'Python' skill exists\n",
    "    if 'skills' in person:\n",
    "        if 'Python' in person['skills']:\n",
    "            print(\"The person has Python skill.\")\n",
    "        else:\n",
    "            print(\"The person does not have Python skill.\")\n",
    "    \n",
    "    # Task 3: Determine the title based on the person's skills\n",
    "    if 'skills' in person:\n",
    "        skills = person['skills']\n",
    "        if len(skills) == 2 and 'JavaScript' in skills and 'React' in skills:\n",
    "            print(\"He is a front end developer\")\n",
    "        elif all(skill in skills for skill in ['Node', 'Python', 'MongoDB']):\n",
    "            print(\"He is a backend developer\")\n",
    "        elif all(skill in skills for skill in ['React', 'Node', 'MongoDB']):\n",
    "            print(\"He is a fullstack developer\")\n",
    "        else:\n",
    "            print(\"Unknown title\")\n",
    "\n",
    "if __name__ == \"__main__\":\n",
    "    main()\n"
   ]
  }
 ],
 "metadata": {
  "kernelspec": {
   "display_name": "base",
   "language": "python",
   "name": "python3"
  },
  "language_info": {
   "codemirror_mode": {
    "name": "ipython",
    "version": 3
   },
   "file_extension": ".py",
   "mimetype": "text/x-python",
   "name": "python",
   "nbconvert_exporter": "python",
   "pygments_lexer": "ipython3",
   "version": "3.11.5"
  }
 },
 "nbformat": 4,
 "nbformat_minor": 2
}
