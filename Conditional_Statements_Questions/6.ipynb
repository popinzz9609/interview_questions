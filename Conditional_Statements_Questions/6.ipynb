{
 "cells": [
  {
   "cell_type": "markdown",
   "metadata": {},
   "source": [
    "The following list contains some fruits:\n",
    "                example:\n",
    "                    fruits = ['banana', 'orange', 'mango', 'lemon']\n",
    "\n",
    "                    If a fruit doesn't exist in the list add the fruit to the list and print the modified list. If the fruit exists print('That fruit already exist in the list')"
   ]
  },
  {
   "cell_type": "code",
   "execution_count": 2,
   "metadata": {},
   "outputs": [
    {
     "name": "stdout",
     "output_type": "stream",
     "text": [
      "The fruit 'king' has been added to the list.\n",
      "Modified list of fruits: ['banana', 'orange', 'mango', 'lemon', 'king']\n"
     ]
    }
   ],
   "source": [
    "def main():\n",
    "    # List of initial fruits\n",
    "    fruits = ['banana', 'orange', 'mango', 'lemon']\n",
    "    \n",
    "    # Prompt the user to enter a fruit\n",
    "    fruit = input(\"Enter a fruit: \").lower()  # Convert input to lowercase for case-insensitive comparison\n",
    "    \n",
    "    # Check if the fruit exists in the list\n",
    "    if fruit in fruits:\n",
    "        print(\"That fruit already exists in the list.\")\n",
    "    else:\n",
    "        # Add the fruit to the list\n",
    "        fruits.append(fruit)\n",
    "        print(f\"The fruit '{fruit}' has been added to the list.\")\n",
    "        print(\"Modified list of fruits:\", fruits)\n",
    "\n",
    "if __name__ == \"__main__\":\n",
    "    main()\n"
   ]
  }
 ],
 "metadata": {
  "kernelspec": {
   "display_name": "base",
   "language": "python",
   "name": "python3"
  },
  "language_info": {
   "codemirror_mode": {
    "name": "ipython",
    "version": 3
   },
   "file_extension": ".py",
   "mimetype": "text/x-python",
   "name": "python",
   "nbconvert_exporter": "python",
   "pygments_lexer": "ipython3",
   "version": "3.11.5"
  }
 },
 "nbformat": 4,
 "nbformat_minor": 2
}
