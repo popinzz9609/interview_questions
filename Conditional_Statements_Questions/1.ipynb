{
 "cells": [
  {
   "cell_type": "markdown",
   "metadata": {},
   "source": [
    " Get user input using input(“Enter your age: ”). If user is 18 or older, give feedback: You are old enough to drive. If below 18 give feedback to wait for the missing amount of years. Output:\n",
    "                example:\n",
    "                    Enter your age: 30\n",
    "\n",
    "                    You are old enough to learn to drive.\n",
    "\n",
    "                    Output:\n",
    "\n",
    "                    Enter your age: 15\n",
    "\n",
    "                    You need 3 more years to learn to drive."
   ]
  },
  {
   "cell_type": "code",
   "execution_count": 1,
   "metadata": {},
   "outputs": [
    {
     "name": "stdout",
     "output_type": "stream",
     "text": [
      "You are old enough to learn to drive.\n"
     ]
    }
   ],
   "source": [
    "def main():\n",
    "    # Prompt the user to enter their age\n",
    "    age = int(input(\"Enter your age: \"))\n",
    "    \n",
    "    # Check the user's age to determine the feedback\n",
    "    if age >= 18:\n",
    "        print(\"You are old enough to learn to drive.\")\n",
    "    else:\n",
    "        years_to_wait = 18 - age\n",
    "        print(f\"You need {years_to_wait} more years to learn to drive.\")\n",
    "\n",
    "if __name__ == \"__main__\":\n",
    "    main()\n"
   ]
  }
 ],
 "metadata": {
  "kernelspec": {
   "display_name": "base",
   "language": "python",
   "name": "python3"
  },
  "language_info": {
   "codemirror_mode": {
    "name": "ipython",
    "version": 3
   },
   "file_extension": ".py",
   "mimetype": "text/x-python",
   "name": "python",
   "nbconvert_exporter": "python",
   "pygments_lexer": "ipython3",
   "version": "3.11.5"
  }
 },
 "nbformat": 4,
 "nbformat_minor": 2
}
