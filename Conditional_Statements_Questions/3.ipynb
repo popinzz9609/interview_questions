{
 "cells": [
  {
   "cell_type": "markdown",
   "metadata": {},
   "source": [
    " Get two numbers from the user using input prompt. If a is greater than b return a is greater than b, if a is less b return a is smaller than b, else a is equal to b. Output:\n",
    "                example:\n",
    "                    Enter number one: 4\n",
    "\n",
    "                    Enter number two: 3\n",
    "\n",
    "                    4 is greater than 3\n"
   ]
  },
  {
   "cell_type": "code",
   "execution_count": 2,
   "metadata": {},
   "outputs": [
    {
     "name": "stdout",
     "output_type": "stream",
     "text": [
      "8.0 is greater than 5.0\n"
     ]
    }
   ],
   "source": [
    "def main():\n",
    "    # Prompt the user to enter the first number\n",
    "    num1 = float(input(\"Enter number one: \"))\n",
    "    \n",
    "    # Prompt the user to enter the second number\n",
    "    num2 = float(input(\"Enter number two: \"))\n",
    "    \n",
    "    # Compare the two numbers\n",
    "    if num1 > num2:\n",
    "        print(f\"{num1} is greater than {num2}\")\n",
    "    elif num1 < num2:\n",
    "        print(f\"{num1} is smaller than {num2}\")\n",
    "    else:\n",
    "        print(f\"{num1} is equal to {num2}\")\n",
    "\n",
    "if __name__ == \"__main__\":\n",
    "    main()\n",
    "\n"
   ]
  }
 ],
 "metadata": {
  "kernelspec": {
   "display_name": "base",
   "language": "python",
   "name": "python3"
  },
  "language_info": {
   "codemirror_mode": {
    "name": "ipython",
    "version": 3
   },
   "file_extension": ".py",
   "mimetype": "text/x-python",
   "name": "python",
   "nbconvert_exporter": "python",
   "pygments_lexer": "ipython3",
   "version": "3.11.5"
  }
 },
 "nbformat": 4,
 "nbformat_minor": 2
}
