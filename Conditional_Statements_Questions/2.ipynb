{
 "cells": [
  {
   "cell_type": "markdown",
   "metadata": {},
   "source": [
    "Compare the values of my_age and your_age using if … else. Who is older (me or you)? Use input(“Enter your age: ”) to get the age as input. You can use a nested condition to print 'year' for 1 year difference in age, 'years' for bigger differences, and a custom text if my_age = your_age. Output:\n",
    "                example:\n",
    "\n",
    "                    Enter your age: 30\n",
    "\n",
    "                    You are 5 years older than me."
   ]
  },
  {
   "cell_type": "code",
   "execution_count": 2,
   "metadata": {},
   "outputs": [
    {
     "name": "stdout",
     "output_type": "stream",
     "text": [
      "You are 5 years older than me.\n"
     ]
    }
   ],
   "source": [
    "def main():\n",
    "    # Prompt the user to enter their age\n",
    "    your_age = int(input(\"Enter your age: \"))\n",
    "    \n",
    "    # Define my age\n",
    "    my_age = 30  # You can replace this with your age\n",
    "    \n",
    "    # Compare ages and print the comparison result\n",
    "    if my_age > your_age:\n",
    "        age_difference = my_age - your_age\n",
    "        if age_difference == 1:\n",
    "            print(f\"I am {age_difference} year older than you.\")\n",
    "        else:\n",
    "            print(f\"I am {age_difference} years older than you.\")\n",
    "    elif your_age > my_age:\n",
    "        age_difference = your_age - my_age\n",
    "        if age_difference == 1:\n",
    "            print(f\"You are {age_difference} year older than me.\")\n",
    "        else:\n",
    "            print(f\"You are {age_difference} years older than me.\")\n",
    "    else:\n",
    "        print(\"We are the same age!\")\n",
    "\n",
    "if __name__ == \"__main__\":\n",
    "    main()\n"
   ]
  }
 ],
 "metadata": {
  "kernelspec": {
   "display_name": "base",
   "language": "python",
   "name": "python3"
  },
  "language_info": {
   "codemirror_mode": {
    "name": "ipython",
    "version": 3
   },
   "file_extension": ".py",
   "mimetype": "text/x-python",
   "name": "python",
   "nbconvert_exporter": "python",
   "pygments_lexer": "ipython3",
   "version": "3.11.5"
  }
 },
 "nbformat": 4,
 "nbformat_minor": 2
}
