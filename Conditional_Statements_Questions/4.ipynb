{
 "cells": [
  {
   "cell_type": "markdown",
   "metadata": {},
   "source": [
    "Write a code which gives grade to students according to theirs scores:\n",
    "                example:\n",
    "                    80-100, A\n",
    "\n",
    "                    70-89, B\n",
    "\n",
    "                    60-69, C\n",
    "\n",
    "                    50-59, D\n",
    "\n",
    "                    0-49, F"
   ]
  },
  {
   "cell_type": "code",
   "execution_count": 4,
   "metadata": {},
   "outputs": [
    {
     "name": "stdout",
     "output_type": "stream",
     "text": [
      "The student's grade is: B\n"
     ]
    }
   ],
   "source": [
    "def main():\n",
    "    # Prompt the user to enter the student's score\n",
    "    score = float(input(\"Enter the student's score: \"))\n",
    "    \n",
    "    # Determine the grade based on the score range\n",
    "    if 80 <= score <= 100:\n",
    "        grade = \"A\"\n",
    "    elif 70 <= score < 80:\n",
    "        grade = \"B\"\n",
    "    elif 60 <= score < 70:\n",
    "        grade = \"C\"\n",
    "    elif 50 <= score < 60:\n",
    "        grade = \"D\"\n",
    "    elif 0 <= score < 50:\n",
    "        grade = \"F\"\n",
    "    else:\n",
    "        grade = \"Invalid score. Please enter a score between 0 and 100.\"\n",
    "    \n",
    "    # Display the assigned grade\n",
    "    print(f\"The student's grade is: {grade}\")\n",
    "\n",
    "if __name__ == \"__main__\":\n",
    "    main()\n"
   ]
  }
 ],
 "metadata": {
  "kernelspec": {
   "display_name": "base",
   "language": "python",
   "name": "python3"
  },
  "language_info": {
   "codemirror_mode": {
    "name": "ipython",
    "version": 3
   },
   "file_extension": ".py",
   "mimetype": "text/x-python",
   "name": "python",
   "nbconvert_exporter": "python",
   "pygments_lexer": "ipython3",
   "version": "3.11.5"
  }
 },
 "nbformat": 4,
 "nbformat_minor": 2
}
