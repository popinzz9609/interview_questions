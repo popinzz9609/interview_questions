{
 "cells": [
  {
   "cell_type": "markdown",
   "metadata": {},
   "source": [
    "Check if the season is Autumn, Winter, Spring or Summer. If the user input is: September, October or November, the season is Autumn. December, January or February, the season is Winter. March, April or May, the season is Spring June, July or August, the season is Summer"
   ]
  },
  {
   "cell_type": "code",
   "execution_count": 2,
   "metadata": {},
   "outputs": [
    {
     "name": "stdout",
     "output_type": "stream",
     "text": [
      "The season for September is Autumn.\n"
     ]
    }
   ],
   "source": [
    "def main():\n",
    "    # Dictionary mapping months to seasons\n",
    "    month_to_season = {\n",
    "        \"September\": \"Autumn\",\n",
    "        \"October\": \"Autumn\",\n",
    "        \"November\": \"Autumn\",\n",
    "        \"December\": \"Winter\",\n",
    "        \"January\": \"Winter\",\n",
    "        \"February\": \"Winter\",\n",
    "        \"March\": \"Spring\",\n",
    "        \"April\": \"Spring\",\n",
    "        \"May\": \"Spring\",\n",
    "        \"June\": \"Summer\",\n",
    "        \"July\": \"Summer\",\n",
    "        \"August\": \"Summer\"\n",
    "    }\n",
    "    \n",
    "    # Prompt the user to enter a month\n",
    "    month = input(\"Enter a month: \").capitalize()  # Convert input to title case\n",
    "    \n",
    "    # Check if the entered month is valid and determine the season\n",
    "    if month in month_to_season:\n",
    "        season = month_to_season[month]\n",
    "        print(f\"The season for {month} is {season}.\")\n",
    "    else:\n",
    "        print(\"Invalid month. Please enter a valid month name.\")\n",
    "\n",
    "if __name__ == \"__main__\":\n",
    "    main()\n"
   ]
  }
 ],
 "metadata": {
  "kernelspec": {
   "display_name": "base",
   "language": "python",
   "name": "python3"
  },
  "language_info": {
   "codemirror_mode": {
    "name": "ipython",
    "version": 3
   },
   "file_extension": ".py",
   "mimetype": "text/x-python",
   "name": "python",
   "nbconvert_exporter": "python",
   "pygments_lexer": "ipython3",
   "version": "3.11.5"
  }
 },
 "nbformat": 4,
 "nbformat_minor": 2
}
