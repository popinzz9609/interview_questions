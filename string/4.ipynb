{
 "cells": [
  {
   "cell_type": "markdown",
   "metadata": {},
   "source": [
    " Write a Python program that asks the user to enter two numbers, and then prints out whether the first number is greater than, less than, or equal to the second number."
   ]
  },
  {
   "cell_type": "code",
   "execution_count": 3,
   "metadata": {},
   "outputs": [
    {
     "name": "stdout",
     "output_type": "stream",
     "text": [
      "6.0 is greater than 5.0.\n"
     ]
    }
   ],
   "source": [
    "def main():\n",
    "    # Prompt the user to enter the first number\n",
    "    num1 = float(input(\"Enter the first number: \"))\n",
    "    \n",
    "    # Prompt the user to enter the second number\n",
    "    num2 = float(input(\"Enter the second number: \"))\n",
    "    \n",
    "    # Compare the two numbers\n",
    "    if num1 > num2:\n",
    "        print(f\"{num1} is greater than {num2}.\")\n",
    "    elif num1 < num2:\n",
    "        print(f\"{num1} is less than {num2}.\")\n",
    "    else:\n",
    "        print(f\"{num1} is equal to {num2}.\")\n",
    "\n",
    "if __name__ == \"__main__\":\n",
    "    main()\n"
   ]
  }
 ],
 "metadata": {
  "kernelspec": {
   "display_name": "base",
   "language": "python",
   "name": "python3"
  },
  "language_info": {
   "codemirror_mode": {
    "name": "ipython",
    "version": 3
   },
   "file_extension": ".py",
   "mimetype": "text/x-python",
   "name": "python",
   "nbconvert_exporter": "python",
   "pygments_lexer": "ipython3",
   "version": "3.11.5"
  }
 },
 "nbformat": 4,
 "nbformat_minor": 2
}
