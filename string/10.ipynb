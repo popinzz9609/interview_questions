{
 "cells": [
  {
   "cell_type": "markdown",
   "metadata": {},
   "source": [
    "Write a Python program that asks the user to enter a password. If the password contains less than 8 characters, print out a message that says \"Password too short.\" If the password contains 8 or more characters, print out a message that says \"Password accepted.\""
   ]
  },
  {
   "cell_type": "code",
   "execution_count": 3,
   "metadata": {},
   "outputs": [
    {
     "name": "stdout",
     "output_type": "stream",
     "text": [
      "Password too short.\n"
     ]
    }
   ],
   "source": [
    "def main():\n",
    "    # Prompt the user to enter a password\n",
    "    password = input(\"Enter a password: \")\n",
    "    \n",
    "    # Check the length of the password\n",
    "    if len(password) < 8:\n",
    "        print(\"Password too short.\")\n",
    "    else:\n",
    "        print(\"Password accepted.\")\n",
    "\n",
    "if __name__ == \"__main__\":\n",
    "    main()\n"
   ]
  }
 ],
 "metadata": {
  "kernelspec": {
   "display_name": "base",
   "language": "python",
   "name": "python3"
  },
  "language_info": {
   "codemirror_mode": {
    "name": "ipython",
    "version": 3
   },
   "file_extension": ".py",
   "mimetype": "text/x-python",
   "name": "python",
   "nbconvert_exporter": "python",
   "pygments_lexer": "ipython3",
   "version": "3.11.5"
  }
 },
 "nbformat": 4,
 "nbformat_minor": 2
}
