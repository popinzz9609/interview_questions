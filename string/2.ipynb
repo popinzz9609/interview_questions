{
 "cells": [
  {
   "cell_type": "markdown",
   "metadata": {},
   "source": [
    "Write a Python program that calculates the area of a rectangle. The program should ask the user to enter the length and width of the rectangle, and then print out the area.\n"
   ]
  },
  {
   "cell_type": "code",
   "execution_count": 1,
   "metadata": {},
   "outputs": [
    {
     "name": "stdout",
     "output_type": "stream",
     "text": [
      "Welcome to the Rectangle Area Calculator!\n",
      "The area of the rectangle with length 2.0 and width 2.0 is 4.0 square units.\n"
     ]
    }
   ],
   "source": [
    "def calculate_rectangle_area(length, width):\n",
    "    return length * width\n",
    "\n",
    "def main():\n",
    "    print(\"Welcome to the Rectangle Area Calculator!\")\n",
    "    \n",
    "    # Get input for length and width\n",
    "    length = float(input(\"Enter the length of the rectangle: \"))\n",
    "    width = float(input(\"Enter the width of the rectangle: \"))\n",
    "    \n",
    "    # Calculate the area using the provided inputs\n",
    "    area = calculate_rectangle_area(length, width)\n",
    "    \n",
    "    # Display the calculated area\n",
    "    print(f\"The area of the rectangle with length {length} and width {width} is {area} square units.\")\n",
    "\n",
    "if __name__ == \"__main__\":\n",
    "    main()\n"
   ]
  }
 ],
 "metadata": {
  "kernelspec": {
   "display_name": "base",
   "language": "python",
   "name": "python3"
  },
  "language_info": {
   "codemirror_mode": {
    "name": "ipython",
    "version": 3
   },
   "file_extension": ".py",
   "mimetype": "text/x-python",
   "name": "python",
   "nbconvert_exporter": "python",
   "pygments_lexer": "ipython3",
   "version": "3.11.5"
  }
 },
 "nbformat": 4,
 "nbformat_minor": 2
}
