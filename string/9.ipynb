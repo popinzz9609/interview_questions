{
 "cells": [
  {
   "cell_type": "markdown",
   "metadata": {},
   "source": [
    " Write a Python program that asks the user to enter a string, and then checks if the string contains the letter \"e\". If the string contains \"e\", print out a message that says \"The string contains the letter e.\" If the string does not contain \"e\", print out a message that says \"The string does not contain the letter e.\"\n"
   ]
  },
  {
   "cell_type": "code",
   "execution_count": 2,
   "metadata": {},
   "outputs": [
    {
     "name": "stdout",
     "output_type": "stream",
     "text": [
      "The string contains the letter e.\n"
     ]
    }
   ],
   "source": [
    "def main():\n",
    "    # Prompt the user to enter a string\n",
    "    user_input = input(\"Enter a string: \")\n",
    "    \n",
    "    # Check if the string contains the letter 'e'\n",
    "    if 'e' in user_input:\n",
    "        print(\"The string contains the letter e.\")\n",
    "    else:\n",
    "        print(\"The string does not contain the letter e.\")\n",
    "\n",
    "if __name__ == \"__main__\":\n",
    "    main()\n"
   ]
  }
 ],
 "metadata": {
  "kernelspec": {
   "display_name": "base",
   "language": "python",
   "name": "python3"
  },
  "language_info": {
   "codemirror_mode": {
    "name": "ipython",
    "version": 3
   },
   "file_extension": ".py",
   "mimetype": "text/x-python",
   "name": "python",
   "nbconvert_exporter": "python",
   "pygments_lexer": "ipython3",
   "version": "3.11.5"
  }
 },
 "nbformat": 4,
 "nbformat_minor": 2
}
