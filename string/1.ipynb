{
 "cells": [
  {
   "cell_type": "markdown",
   "metadata": {},
   "source": [
    "Write a Python program that asks the user to enter their name and age, and then prints out a message that says \"Hello, [name]! You are [age] years old.\"\n"
   ]
  },
  {
   "cell_type": "code",
   "execution_count": 1,
   "metadata": {},
   "outputs": [
    {
     "name": "stdout",
     "output_type": "stream",
     "text": [
      "Hello, pop! You are 23 years old.\n"
     ]
    }
   ],
   "source": [
    "# Ask the user to enter their name\n",
    "name = input(\"Enter your name: \")\n",
    "\n",
    "# Ask the user to enter their age\n",
    "age = input(\"Enter your age: \")\n",
    "\n",
    "# Print out a message using the entered name and age\n",
    "print(f\"Hello, {name}! You are {age} years old.\")\n",
    "\n"
   ]
  }
 ],
 "metadata": {
  "kernelspec": {
   "display_name": "base",
   "language": "python",
   "name": "python3"
  },
  "language_info": {
   "codemirror_mode": {
    "name": "ipython",
    "version": 3
   },
   "file_extension": ".py",
   "mimetype": "text/x-python",
   "name": "python",
   "nbconvert_exporter": "python",
   "pygments_lexer": "ipython3",
   "version": "3.11.5"
  }
 },
 "nbformat": 4,
 "nbformat_minor": 2
}
