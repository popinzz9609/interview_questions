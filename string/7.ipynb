{
 "cells": [
  {
   "cell_type": "markdown",
   "metadata": {},
   "source": [
    " Write a Python program that asks the user to enter a temperature in Fahrenheit, and then converts it to Celsius. The formula for converting Fahrenheit to Celsius is (F - 32) * 5/9."
   ]
  },
  {
   "cell_type": "code",
   "execution_count": 1,
   "metadata": {},
   "outputs": [
    {
     "name": "stdout",
     "output_type": "stream",
     "text": [
      "The temperature 96.00 degrees Fahrenheit is equivalent to 35.56 degrees Celsius.\n"
     ]
    }
   ],
   "source": [
    "def main():\n",
    "    # Prompt the user to enter a temperature in Fahrenheit\n",
    "    fahrenheit = float(input(\"Enter the temperature in Fahrenheit: \"))\n",
    "    \n",
    "    # Convert Fahrenheit to Celsius using the formula (F - 32) * 5/9\n",
    "    celsius = (fahrenheit - 32) * 5/9\n",
    "    \n",
    "    # Display the temperature in Celsius\n",
    "    print(f\"The temperature {fahrenheit:.2f} degrees Fahrenheit is equivalent to {celsius:.2f} degrees Celsius.\")\n",
    "\n",
    "if __name__ == \"__main__\":\n",
    "    main()\n"
   ]
  }
 ],
 "metadata": {
  "kernelspec": {
   "display_name": "base",
   "language": "python",
   "name": "python3"
  },
  "language_info": {
   "codemirror_mode": {
    "name": "ipython",
    "version": 3
   },
   "file_extension": ".py",
   "mimetype": "text/x-python",
   "name": "python",
   "nbconvert_exporter": "python",
   "pygments_lexer": "ipython3",
   "version": "3.11.5"
  }
 },
 "nbformat": 4,
 "nbformat_minor": 2
}
