{
 "cells": [
  {
   "cell_type": "markdown",
   "metadata": {},
   "source": [
    " Write a Python program that asks the user to enter a string, and then prints out the length of the string.\n"
   ]
  },
  {
   "cell_type": "code",
   "execution_count": 1,
   "metadata": {},
   "outputs": [
    {
     "name": "stdout",
     "output_type": "stream",
     "text": [
      "The length of the string you entered is: 3\n"
     ]
    }
   ],
   "source": [
    "def main():\n",
    "    # Prompt the user to enter a string\n",
    "    user_input = input(\"Enter a string: \")\n",
    "    \n",
    "    # Calculate the length of the string\n",
    "    length_of_string = len(user_input)\n",
    "    \n",
    "    # Display the length of the string\n",
    "    print(f\"The length of the string you entered is: {length_of_string}\")\n",
    "\n",
    "if __name__ == \"__main__\":\n",
    "    main()\n"
   ]
  }
 ],
 "metadata": {
  "kernelspec": {
   "display_name": "base",
   "language": "python",
   "name": "python3"
  },
  "language_info": {
   "codemirror_mode": {
    "name": "ipython",
    "version": 3
   },
   "file_extension": ".py",
   "mimetype": "text/x-python",
   "name": "python",
   "nbconvert_exporter": "python",
   "pygments_lexer": "ipython3",
   "version": "3.11.5"
  }
 },
 "nbformat": 4,
 "nbformat_minor": 2
}
